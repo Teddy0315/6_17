{
 "cells": [
  {
   "cell_type": "code",
   "execution_count": 1,
   "metadata": {},
   "outputs": [
    {
     "name": "stdout",
     "output_type": "stream",
     "text": [
      "수영행 열차가 들어오고 있습니다.\n",
      "대연행 열차가 들어오고 있습니다.\n",
      "부경대-경성대행 열차가 들어오고 있습니다.\n"
     ]
    }
   ],
   "source": [
    "station = \"수영\"\n",
    "print(station + '행 열차가 들어오고 있습니다.')\n",
    "\n",
    "station = \"대연\"\n",
    "print(station + '행 열차가 들어오고 있습니다.')\n",
    "\n",
    "station = \"부경대-경성대\"\n",
    "print(station + '행 열차가 들어오고 있습니다.')"
   ]
  },
  {
   "cell_type": "code",
   "execution_count": 2,
   "metadata": {},
   "outputs": [
    {
     "name": "stdout",
     "output_type": "stream",
     "text": [
      "수영행 열차가 들어오고 있습니다.\n",
      "대연행 열차가 들어오고 있습니다.\n",
      "부경대-경성대행 열차가 들어오고 있습니다.\n"
     ]
    }
   ],
   "source": [
    "station = [\"수영\", \"대연\", \"부경대-경성대\"]\n",
    "\n",
    "for i in station :\n",
    "    print(i + \"행 열차가 들어오고 있습니다.\")"
   ]
  },
  {
   "cell_type": "code",
   "execution_count": 4,
   "metadata": {},
   "outputs": [
    {
     "name": "stdout",
     "output_type": "stream",
     "text": [
      "수영행 열차가 들어오고 있습니다.\n",
      "대연행 열차가 들어오고 있습니다.\n",
      "부경대-경성대행 열차가 들어오고 있습니다.\n"
     ]
    }
   ],
   "source": [
    "def station(where) :\n",
    "    print(where + \"행 열차가 들어오고 있습니다.\")\n",
    "    \n",
    "station(\"수영\")\n",
    "station(\"대연\")\n",
    "station(\"부경대-경성대\")\n"
   ]
  },
  {
   "cell_type": "code",
   "execution_count": 7,
   "metadata": {},
   "outputs": [
    {
     "name": "stdout",
     "output_type": "stream",
     "text": [
      "수영행 열차가 들어오고 있습니다.\n",
      "대연행 열차가 들어오고 있습니다.\n",
      "부경대-경성대행 열차가 들어오고 있습니다.\n"
     ]
    }
   ],
   "source": [
    "def station(where) :\n",
    "    print(where + \"행 열차가 들어오고 있습니다.\")\n",
    "    \n",
    "where = ['수영', '대연', '부경대-경성대']\n",
    "\n",
    "for i in where :\n",
    "    station(i)"
   ]
  }
 ],
 "metadata": {
  "kernelspec": {
   "display_name": "Python 3",
   "language": "python",
   "name": "python3"
  },
  "language_info": {
   "codemirror_mode": {
    "name": "ipython",
    "version": 3
   },
   "file_extension": ".py",
   "mimetype": "text/x-python",
   "name": "python",
   "nbconvert_exporter": "python",
   "pygments_lexer": "ipython3",
   "version": "3.7.6"
  },
  "toc": {
   "base_numbering": 1,
   "nav_menu": {},
   "number_sections": true,
   "sideBar": true,
   "skip_h1_title": false,
   "title_cell": "Table of Contents",
   "title_sidebar": "Contents",
   "toc_cell": false,
   "toc_position": {},
   "toc_section_display": true,
   "toc_window_display": false
  }
 },
 "nbformat": 4,
 "nbformat_minor": 4
}
